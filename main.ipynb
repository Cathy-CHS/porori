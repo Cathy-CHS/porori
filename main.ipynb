{
 "cells": [
  {
   "cell_type": "markdown",
   "metadata": {},
   "source": [
    "# PORORI"
   ]
  },
  {
   "cell_type": "markdown",
   "metadata": {},
   "source": [
    "## 1. prepare environment"
   ]
  },
  {
   "cell_type": "code",
   "execution_count": null,
   "metadata": {},
   "outputs": [],
   "source": [
    "%git clone https://github.com/Cathy-CHS/porori.git"
   ]
  },
  {
   "cell_type": "code",
   "execution_count": null,
   "metadata": {},
   "outputs": [],
   "source": [
    "!pip install -r porori/requirements.txt"
   ]
  },
  {
   "cell_type": "code",
   "execution_count": null,
   "metadata": {},
   "outputs": [],
   "source": [
    "import os\n",
    "os.chdir('/content/porori')"
   ]
  },
  {
   "cell_type": "markdown",
   "metadata": {},
   "source": [
    "upload the pretrained_weights.zip file."
   ]
  },
  {
   "cell_type": "code",
   "execution_count": null,
   "metadata": {},
   "outputs": [],
   "source": [
    "# download file\n",
    "!wget https://storage.googleapis.com/porori-models/pretrained_weight.zip -O pretrained_weight.zip\n",
    "!unzip pretrained_weight.zip"
   ]
  },
  {
   "cell_type": "markdown",
   "metadata": {},
   "source": [
    "## 2. process text and get graph"
   ]
  },
  {
   "cell_type": "markdown",
   "metadata": {},
   "source": [
    "## 3. Process the graph and analyze it\n",
    "\n",
    "You can construct knowledge graph of 태조1년7월, 세종실록 전체, 선조20년, 선조 30년. the estimated construction time for 세종실록 전체 is\n",
    "\n",
    "more than 4 Hours, and it requires excessive call of the open API to EncyKorea.\n",
    " \n",
    "So we recommend you to construct the graph of 태조1년7월, 선조20년, 선조30년, except 세종실록 전체.\n",
    "\n",
    "We uploaded the precomputed KG for all the test samples including 세종실록, so you can get the results on the poster regarding 세종실록 전체.  \n",
    "\n",
    "\n",
    "\n",
    "**Before** you start, you need to set up the environment variable to use the EncyKorea openAPI. In the read me file, we provided the openAPI access key. \n",
    "Follow the instruction in the readme.md and set the environment variable. \n",
    "\n"
   ]
  },
  {
   "cell_type": "code",
   "execution_count": null,
   "metadata": {},
   "outputs": [],
   "source": [
    "# setup environment variables for training.\n",
    "os.environ['ENCYKOREA_API_KEY'] = \"API_ACCESS_KEY_HERE\""
   ]
  },
  {
   "cell_type": "markdown",
   "metadata": {},
   "source": [
    "Knowledge Graph Construction for 태조1년7월"
   ]
  },
  {
   "cell_type": "code",
   "execution_count": null,
   "metadata": {},
   "outputs": [],
   "source": [
    "!python3 construct_kg.py --current-king=태조 --input-dir=\"input_texts/taejo_july\" --export-path=\"results/taejo_july\""
   ]
  },
  {
   "cell_type": "markdown",
   "metadata": {},
   "source": [
    "Knowledge Graph Construction for 선조20년"
   ]
  },
  {
   "cell_type": "code",
   "execution_count": null,
   "metadata": {},
   "outputs": [],
   "source": [
    "!python3 construct_kg.py --current-king=선조 --input-dir=\"input_texts/sunjo_1587\" --export-path=\"results/sunjo_1587\""
   ]
  },
  {
   "cell_type": "markdown",
   "metadata": {},
   "source": [
    "Knowledge Graph Construction for 선조30년"
   ]
  },
  {
   "cell_type": "code",
   "execution_count": null,
   "metadata": {},
   "outputs": [],
   "source": [
    "!python3 construct_kg.py --current-king=선조 --input-dir=\"input_texts/sunjo_1597\" --export-path=\"results/sunjo_1597\""
   ]
  },
  {
   "cell_type": "markdown",
   "metadata": {},
   "source": [
    "Knowledge Graph Construction for 세종실록전체 (we don't recommend to run this)"
   ]
  },
  {
   "cell_type": "code",
   "execution_count": null,
   "metadata": {},
   "outputs": [],
   "source": [
    "# !python3 construct_kg.py --current-king=세종 --input-dir=\"input_texts/sejong\" --export-path=\"results/sejong\""
   ]
  },
  {
   "cell_type": "markdown",
   "metadata": {},
   "source": [
    "## Graph Visualization & Analysis\n",
    "\n",
    "You can get the number of nodes, edges, average degrees, many centrality & closeness measure, and graph visulaization for each graph."
   ]
  },
  {
   "cell_type": "markdown",
   "metadata": {},
   "source": [
    "graph visualization for 태조1년7월"
   ]
  },
  {
   "cell_type": "code",
   "execution_count": null,
   "metadata": {},
   "outputs": [],
   "source": [
    "from IPython.display import Image"
   ]
  },
  {
   "cell_type": "code",
   "execution_count": null,
   "metadata": {},
   "outputs": [],
   "source": [
    "!python3 analyze_graph.py --graph-dir \"results/taejo_july_1st\" --export-dir \"graph_analysis_results/taejo_july\" --king-name 태조\n",
    "image_path = \"graph_analysis_results/taejo_july/태조_knowledgegraph.png\"\n",
    "Image(filename=image_path)"
   ]
  },
  {
   "cell_type": "code",
   "execution_count": null,
   "metadata": {},
   "outputs": [],
   "source": [
    "!python3 analyze_graph.py --graph-dir \"results/sunjo_1587\" --export-dir \"graph_analysis_results/sunjo_1587\" --king-name 선조\n",
    "image_path = \"graph_analysis_results/sunjo_1587/선조_knowledgegraph.png\"\n",
    "Image(filename=image_path)"
   ]
  },
  {
   "cell_type": "code",
   "execution_count": null,
   "metadata": {},
   "outputs": [],
   "source": [
    "!python3 analyze_graph.py --graph-dir \"results/sunjo_1597\" --export-dir \"graph_analysis_results/sunjo_1597\" --king-name 선조\n",
    "image_path = \"graph_analysis_results/sunjo_1597/선조_knowledgegraph.png\"\n",
    "Image(filename=image_path)"
   ]
  },
  {
   "cell_type": "code",
   "execution_count": null,
   "metadata": {},
   "outputs": [],
   "source": [
    "!python3 analyze_graph.py --graph-dir \"results/sejong\" --export-dir \"graph_analysis_results/sejong\" --king-name 세종\n",
    "image_path = \"graph_analysis_results/sejong/세종_knowledgegraph.png\"\n",
    "Image(filename=image_path)"
   ]
  }
 ],
 "metadata": {
  "kernelspec": {
   "display_name": "base",
   "language": "python",
   "name": "python3"
  },
  "language_info": {
   "codemirror_mode": {
    "name": "ipython",
    "version": 3
   },
   "file_extension": ".py",
   "mimetype": "text/x-python",
   "name": "python",
   "nbconvert_exporter": "python",
   "pygments_lexer": "ipython3",
   "version": "3.10.14"
  }
 },
 "nbformat": 4,
 "nbformat_minor": 2
}
